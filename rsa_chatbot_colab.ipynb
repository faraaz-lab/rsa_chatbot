{
  "nbformat": 4,
  "nbformat_minor": 0,
  "metadata": {
    "kernelspec": {
      "name": "python3",
      "display_name": "Python 3"
    },
    "colab": {
      "name": "rsa_chatbot_colab",
      "provenance": [],
      "include_colab_link": true
    },
    "accelerator": "GPU"
  },
  "cells": [
    {
      "cell_type": "markdown",
      "metadata": {
        "id": "view-in-github",
        "colab_type": "text"
      },
      "source": [
        "<a href=\"https://colab.research.google.com/github/faraaz-lab/rsa_chatbot/blob/master/rsa_chatbot_colab.ipynb\" target=\"_parent\"><img src=\"https://colab.research.google.com/assets/colab-badge.svg\" alt=\"Open In Colab\"/></a>"
      ]
    },
    {
      "cell_type": "code",
      "metadata": {
        "id": "w8x3j86RNW-H",
        "colab_type": "code",
        "outputId": "f523038a-0a52-4d15-96cd-8d245789e23d",
        "colab": {
          "base_uri": "https://localhost:8080/",
          "height": 122
        }
      },
      "source": [
        "from google.colab import drive\n",
        "drive.mount('/content/drive')"
      ],
      "execution_count": 1,
      "outputs": [
        {
          "output_type": "stream",
          "text": [
            "Go to this URL in a browser: https://accounts.google.com/o/oauth2/auth?client_id=947318989803-6bn6qk8qdgf4n4g3pfee6491hc0brc4i.apps.googleusercontent.com&redirect_uri=urn%3aietf%3awg%3aoauth%3a2.0%3aoob&response_type=code&scope=email%20https%3a%2f%2fwww.googleapis.com%2fauth%2fdocs.test%20https%3a%2f%2fwww.googleapis.com%2fauth%2fdrive%20https%3a%2f%2fwww.googleapis.com%2fauth%2fdrive.photos.readonly%20https%3a%2f%2fwww.googleapis.com%2fauth%2fpeopleapi.readonly\n",
            "\n",
            "Enter your authorization code:\n",
            "··········\n",
            "Mounted at /content/drive\n"
          ],
          "name": "stdout"
        }
      ]
    },
    {
      "cell_type": "code",
      "metadata": {
        "id": "tlfoqDbl9haQ",
        "colab_type": "code",
        "colab": {}
      },
      "source": [
        "#!mkdir \"/content/drive/My Drive/rsa_chatbot_2\"\n",
        "!cd \"/content/drive/My Drive/rsa_chatbot_2\""
      ],
      "execution_count": 0,
      "outputs": []
    },
    {
      "cell_type": "markdown",
      "metadata": {
        "id": "C58GBuSX9ok7",
        "colab_type": "text"
      },
      "source": [
        "\n",
        "Conversation AI with the Rasa Stack\n",
        "\n",
        "Part 1: Having a basic conversation\n",
        "\n",
        "Get Rasa Core\n",
        "\n",
        "First we'll have to install Rasa Core on the server running this notebook."
      ]
    },
    {
      "cell_type": "code",
      "metadata": {
        "id": "yEXku8vM9kY_",
        "colab_type": "code",
        "colab": {
          "base_uri": "https://localhost:8080/",
          "height": 1000
        },
        "outputId": "a38d983c-6720-4b66-eb31-debac3055a51"
      },
      "source": [
        "!pip install rasa_core;\n",
        "\n",
        "import logging, io, json, warnings\n",
        "logging.basicConfig(level=\"INFO\")\n",
        "warnings.filterwarnings('ignore')"
      ],
      "execution_count": 7,
      "outputs": [
        {
          "output_type": "stream",
          "text": [
            "Collecting rasa_core\n",
            "\u001b[?25l  Downloading https://files.pythonhosted.org/packages/cd/7b/58a6a997023a8b1f6a0e292d08fd88b4d39ec325e103c6cebd1eb38f6545/rasa_core-0.14.5-py3-none-any.whl (212kB)\n",
            "\u001b[K     |████████████████████████████████| 215kB 2.8MB/s \n",
            "\u001b[?25hCollecting scikit-learn~=0.20.0\n",
            "\u001b[?25l  Downloading https://files.pythonhosted.org/packages/96/5b/5da31a6572dc6b7b2846a7cfcbe2e060a0e6af0e1059a6516965e40371b7/scikit_learn-0.20.4-cp36-cp36m-manylinux1_x86_64.whl (5.4MB)\n",
            "\u001b[K     |████████████████████████████████| 5.4MB 7.6MB/s \n",
            "\u001b[?25hRequirement already satisfied: numpy~=1.16 in /tensorflow-2.1.0/python3.6 (from rasa_core) (1.18.1)\n",
            "Collecting apscheduler~=3.0\n",
            "\u001b[?25l  Downloading https://files.pythonhosted.org/packages/f3/34/9ef20ed473c4fd2c3df54ef77a27ae3fc7500b16b192add4720cab8b2c09/APScheduler-3.6.3-py2.py3-none-any.whl (58kB)\n",
            "\u001b[K     |████████████████████████████████| 61kB 8.6MB/s \n",
            "\u001b[?25hCollecting pykwalify~=1.7.0\n",
            "\u001b[?25l  Downloading https://files.pythonhosted.org/packages/36/9f/612de8ca540bd24d604f544248c4c46e9db76f6ea5eb75fb4244da6ebbf0/pykwalify-1.7.0-py2.py3-none-any.whl (40kB)\n",
            "\u001b[K     |████████████████████████████████| 40kB 5.4MB/s \n",
            "\u001b[?25hCollecting packaging~=18.0\n",
            "  Downloading https://files.pythonhosted.org/packages/89/d1/92e6df2e503a69df9faab187c684585f0136662c12bb1f36901d426f3fab/packaging-18.0-py2.py3-none-any.whl\n",
            "Requirement already satisfied: pymongo~=3.7 in /usr/local/lib/python3.6/dist-packages (from rasa_core) (3.10.1)\n",
            "Requirement already satisfied: flask~=1.0 in /usr/local/lib/python3.6/dist-packages (from rasa_core) (1.1.1)\n",
            "Collecting flask-cors~=3.0\n",
            "  Downloading https://files.pythonhosted.org/packages/78/38/e68b11daa5d613e3a91e4bf3da76c94ac9ee0d9cd515af9c1ab80d36f709/Flask_Cors-3.0.8-py2.py3-none-any.whl\n",
            "Requirement already satisfied: requests~=2.20 in /tensorflow-2.1.0/python3.6 (from rasa_core) (2.22.0)\n",
            "Requirement already satisfied: tqdm~=4.0 in /usr/local/lib/python3.6/dist-packages (from rasa_core) (4.28.1)\n",
            "Requirement already satisfied: scipy~=1.2 in /tensorflow-2.1.0/python3.6 (from rasa_core) (1.4.1)\n",
            "Collecting python-socketio~=3.0\n",
            "\u001b[?25l  Downloading https://files.pythonhosted.org/packages/b5/db/dc823aa0b3397e52ebe8bba62ee39d6b9a088377809bc230d3ad2e5d2448/python_socketio-3.1.2-py2.py3-none-any.whl (43kB)\n",
            "\u001b[K     |████████████████████████████████| 51kB 7.2MB/s \n",
            "\u001b[?25hCollecting twilio~=6.0\n",
            "\u001b[?25l  Downloading https://files.pythonhosted.org/packages/a3/33/5fdeff34d077da0e800c01c4a802f82ba214246f137b7862228e8182eec8/twilio-6.35.5.tar.gz (409kB)\n",
            "\u001b[K     |████████████████████████████████| 409kB 41.5MB/s \n",
            "\u001b[?25hCollecting rasa-core-sdk~=0.14\n",
            "  Downloading https://files.pythonhosted.org/packages/bc/5b/343937a872b497079803878e5a6f75deb4aeb00504d32601a0ffd37b90f4/rasa_core_sdk-0.14.0-py2.py3-none-any.whl\n",
            "Collecting slackclient~=1.0\n",
            "  Downloading https://files.pythonhosted.org/packages/7c/2f/9b6db4c7686be3dc6b4244eaef4f37226a2ccca1a796516d4adcdfeefe56/slackclient-1.3.2.tar.gz\n",
            "Collecting questionary>=1.0.1\n",
            "  Downloading https://files.pythonhosted.org/packages/09/03/1a1020649ab0cf91b289ba980c07d48bea54ece53a94530a6e2ae0bb5ebf/questionary-1.5.1-py3-none-any.whl\n",
            "Collecting pydot~=1.4\n",
            "  Downloading https://files.pythonhosted.org/packages/33/d1/b1479a770f66d962f545c2101630ce1d5592d90cb4f083d38862e93d16d2/pydot-1.4.1-py2.py3-none-any.whl\n",
            "Collecting python-dateutil~=2.7\n",
            "\u001b[?25l  Downloading https://files.pythonhosted.org/packages/d4/70/d60450c3dd48ef87586924207ae8907090de0b306af2bce5d134d78615cb/python_dateutil-2.8.1-py2.py3-none-any.whl (227kB)\n",
            "\u001b[K     |████████████████████████████████| 235kB 39.9MB/s \n",
            "\u001b[?25hCollecting terminaltables~=3.1\n",
            "  Downloading https://files.pythonhosted.org/packages/9b/c4/4a21174f32f8a7e1104798c445dacdc1d4df86f2f26722767034e4de4bff/terminaltables-3.1.0.tar.gz\n",
            "Collecting python-telegram-bot~=11.0\n",
            "\u001b[?25l  Downloading https://files.pythonhosted.org/packages/84/6c/47932a4041ee76650ad1f45a80e1422077e1e99c08a4d7a61cfbe5393d41/python_telegram_bot-11.1.0-py2.py3-none-any.whl (326kB)\n",
            "\u001b[K     |████████████████████████████████| 327kB 28.2MB/s \n",
            "\u001b[?25hCollecting coloredlogs~=10.0\n",
            "\u001b[?25l  Downloading https://files.pythonhosted.org/packages/08/0f/7877fc42fff0b9d70b6442df62d53b3868d3a6ad1b876bdb54335b30ff23/coloredlogs-10.0-py2.py3-none-any.whl (47kB)\n",
            "\u001b[K     |████████████████████████████████| 51kB 7.3MB/s \n",
            "\u001b[?25hCollecting ruamel.yaml~=0.15.0\n",
            "\u001b[?25l  Downloading https://files.pythonhosted.org/packages/e7/9f/83bb34eaf84032b0b54fcc4a6aff1858572d279d65a301c7ae875f523df5/ruamel.yaml-0.15.100-cp36-cp36m-manylinux1_x86_64.whl (656kB)\n",
            "\u001b[K     |████████████████████████████████| 665kB 42.4MB/s \n",
            "\u001b[?25hCollecting redis~=2.0\n",
            "\u001b[?25l  Downloading https://files.pythonhosted.org/packages/3b/f6/7a76333cf0b9251ecf49efff635015171843d9b977e4ffcf59f9c4428052/redis-2.10.6-py2.py3-none-any.whl (64kB)\n",
            "\u001b[K     |████████████████████████████████| 71kB 8.9MB/s \n",
            "\u001b[?25hCollecting tensorflow~=1.13.0\n",
            "\u001b[?25l  Downloading https://files.pythonhosted.org/packages/db/d3/651f95288a6cd9094f7411cdd90ef12a3d01a268009e0e3cd66b5c8d65bd/tensorflow-1.13.2-cp36-cp36m-manylinux1_x86_64.whl (92.6MB)\n",
            "\u001b[K     |████████████████████████████████| 92.6MB 103kB/s \n",
            "\u001b[?25hCollecting fakeredis~=0.10.0\n",
            "  Downloading https://files.pythonhosted.org/packages/64/bd/2756ddf350c4bb308e3255f9dcd6610f8b01344947bf74d5d166dc66b0a2/fakeredis-0.10.3-py2.py3-none-any.whl\n",
            "Requirement already satisfied: typing~=3.0 in /usr/local/lib/python3.6/dist-packages (from rasa_core) (3.6.6)\n",
            "Collecting colorhash~=1.0\n",
            "  Downloading https://files.pythonhosted.org/packages/0e/e1/50dbc513aa74e99eca4c47f2a8206711f0bec436fdddd95eebaf7eaaa1aa/colorhash-1.0.2-py2.py3-none-any.whl\n",
            "Requirement already satisfied: jsonschema~=2.6 in /usr/local/lib/python3.6/dist-packages (from rasa_core) (2.6.0)\n",
            "Collecting rasa-nlu~=0.15\n",
            "\u001b[?25l  Downloading https://files.pythonhosted.org/packages/19/c4/c6146c445a17b6ce414d773f93c941c44ca16720609000ae3d01409f9dfb/rasa_nlu-0.15.1-py3-none-any.whl (147kB)\n",
            "\u001b[K     |████████████████████████████████| 153kB 42.0MB/s \n",
            "\u001b[?25hCollecting jsonpickle~=1.0\n",
            "  Downloading https://files.pythonhosted.org/packages/7e/6b/fbb2d499b96861a18c1641f6fefe775110d3faba65c1524950e9ad64824a/jsonpickle-1.3-py2.py3-none-any.whl\n",
            "Collecting webexteamssdk~=1.0\n",
            "\u001b[?25l  Downloading https://files.pythonhosted.org/packages/2b/18/3d2166631802e064c1fcba75b40d49ae86e7a9395abe75c0fe87c5c11b69/webexteamssdk-1.2.tar.gz (50kB)\n",
            "\u001b[K     |████████████████████████████████| 51kB 2.4MB/s \n",
            "\u001b[?25hCollecting mattermostwrapper~=2.0\n",
            "  Downloading https://files.pythonhosted.org/packages/d7/fd/f1ce046ddaeffa5073f87d7800c27ad2c8e543e924a8418675c64aea6a14/mattermostwrapper-2.2.tar.gz\n",
            "Requirement already satisfied: pytz~=2018.9 in /usr/local/lib/python3.6/dist-packages (from rasa_core) (2018.9)\n",
            "Collecting colorclass~=2.2\n",
            "  Downloading https://files.pythonhosted.org/packages/37/ea/ae8dbb956939d4392e6a7fdef87fda273854da1128edae016c4104240be8/colorclass-2.2.0.tar.gz\n",
            "Collecting rocketchat-API~=0.6.0\n",
            "  Downloading https://files.pythonhosted.org/packages/8e/e6/69e5d75ad687635c56a27a8529c471cf1a8593e071784c4d2727382cd5db/rocketchat_API-0.6.36-py3-none-any.whl\n",
            "Collecting pika~=0.12.0\n",
            "\u001b[?25l  Downloading https://files.pythonhosted.org/packages/bf/48/72de47f63ba353bacd74b76bb65bc63620b0706d8b0471798087cd5a4916/pika-0.12.0-py2.py3-none-any.whl (108kB)\n",
            "\u001b[K     |████████████████████████████████| 112kB 44.3MB/s \n",
            "\u001b[?25hCollecting flask-jwt-simple~=0.0.3\n",
            "  Downloading https://files.pythonhosted.org/packages/e7/5f/432fde78e3a7dda20576396ebf561770a83104dc4b74a1ee84e71574ec0a/Flask-JWT-Simple-0.0.3.tar.gz\n",
            "Requirement already satisfied: gevent~=1.3 in /usr/local/lib/python3.6/dist-packages (from rasa_core) (1.4.0)\n",
            "Requirement already satisfied: networkx~=2.2 in /usr/local/lib/python3.6/dist-packages (from rasa_core) (2.4)\n",
            "Collecting fbmessenger~=5.0\n",
            "  Downloading https://files.pythonhosted.org/packages/51/9d/9a426160e00c3c9d839314685fcec1f60ad04888be4228399dadb37c3226/fbmessenger-5.6.0-py2.py3-none-any.whl\n",
            "Requirement already satisfied: six>=1.4.0 in /tensorflow-2.1.0/python3.6 (from apscheduler~=3.0->rasa_core) (1.14.0)\n",
            "Requirement already satisfied: setuptools>=0.7 in /tensorflow-2.1.0/python3.6 (from apscheduler~=3.0->rasa_core) (45.2.0)\n",
            "Requirement already satisfied: tzlocal>=1.2 in /usr/local/lib/python3.6/dist-packages (from apscheduler~=3.0->rasa_core) (1.5.1)\n",
            "Requirement already satisfied: PyYAML>=3.11 in /usr/local/lib/python3.6/dist-packages (from pykwalify~=1.7.0->rasa_core) (3.13)\n",
            "Requirement already satisfied: docopt>=0.6.2 in /usr/local/lib/python3.6/dist-packages (from pykwalify~=1.7.0->rasa_core) (0.6.2)\n",
            "Requirement already satisfied: pyparsing>=2.0.2 in /usr/local/lib/python3.6/dist-packages (from packaging~=18.0->rasa_core) (2.4.6)\n",
            "Requirement already satisfied: Werkzeug>=0.15 in /tensorflow-2.1.0/python3.6 (from flask~=1.0->rasa_core) (1.0.0)\n",
            "Requirement already satisfied: Jinja2>=2.10.1 in /usr/local/lib/python3.6/dist-packages (from flask~=1.0->rasa_core) (2.11.1)\n",
            "Requirement already satisfied: itsdangerous>=0.24 in /usr/local/lib/python3.6/dist-packages (from flask~=1.0->rasa_core) (1.1.0)\n",
            "Requirement already satisfied: click>=5.1 in /usr/local/lib/python3.6/dist-packages (from flask~=1.0->rasa_core) (7.0)\n",
            "Requirement already satisfied: chardet<3.1.0,>=3.0.2 in /tensorflow-2.1.0/python3.6 (from requests~=2.20->rasa_core) (3.0.4)\n",
            "Requirement already satisfied: certifi>=2017.4.17 in /tensorflow-2.1.0/python3.6 (from requests~=2.20->rasa_core) (2019.11.28)\n",
            "Requirement already satisfied: idna<2.9,>=2.5 in /tensorflow-2.1.0/python3.6 (from requests~=2.20->rasa_core) (2.8)\n",
            "Requirement already satisfied: urllib3!=1.25.0,!=1.25.1,<1.26,>=1.21.1 in /tensorflow-2.1.0/python3.6 (from requests~=2.20->rasa_core) (1.25.8)\n",
            "Collecting python-engineio>=3.2.0\n",
            "\u001b[?25l  Downloading https://files.pythonhosted.org/packages/97/16/66b05477d6057238e2fc1f8cfb1dfd0b3adad1351c30ad20934f09db5891/python_engineio-3.11.2-py2.py3-none-any.whl (49kB)\n",
            "\u001b[K     |████████████████████████████████| 51kB 6.9MB/s \n",
            "\u001b[?25hCollecting PyJWT>=1.4.2\n",
            "  Downloading https://files.pythonhosted.org/packages/87/8b/6a9f14b5f781697e51259d81657e6048fd31a113229cf346880bb7545565/PyJWT-1.7.1-py2.py3-none-any.whl\n",
            "Requirement already satisfied: future~=0.16 in /usr/local/lib/python3.6/dist-packages (from rasa-core-sdk~=0.14->rasa_core) (0.16.0)\n",
            "Collecting ConfigArgParse~=0.13.0\n",
            "  Downloading https://files.pythonhosted.org/packages/77/61/ae928ce6ab85d4479ea198488cf5ffa371bd4ece2030c0ee85ff668deac5/ConfigArgParse-0.13.0.tar.gz\n",
            "Collecting websocket-client<0.55.0,>=0.35\n",
            "\u001b[?25l  Downloading https://files.pythonhosted.org/packages/26/2d/f749a5c82f6192d77ed061a38e02001afcba55fe8477336d26a950ab17ce/websocket_client-0.54.0-py2.py3-none-any.whl (200kB)\n",
            "\u001b[K     |████████████████████████████████| 204kB 41.0MB/s \n",
            "\u001b[?25hCollecting prompt-toolkit<4.0,>=2.0\n",
            "\u001b[?25l  Downloading https://files.pythonhosted.org/packages/f5/22/f00412fafc68169054cc623a35c32773f22b403ddbe516c8adfdecf25341/prompt_toolkit-3.0.3-py3-none-any.whl (348kB)\n",
            "\u001b[K     |████████████████████████████████| 358kB 39.3MB/s \n",
            "\u001b[?25hCollecting cryptography\n",
            "\u001b[?25l  Downloading https://files.pythonhosted.org/packages/ca/9a/7cece52c46546e214e10811b36b2da52ce1ea7fa203203a629b8dfadad53/cryptography-2.8-cp34-abi3-manylinux2010_x86_64.whl (2.3MB)\n",
            "\u001b[K     |████████████████████████████████| 2.3MB 37.6MB/s \n",
            "\u001b[?25hCollecting humanfriendly>=4.7\n",
            "\u001b[?25l  Downloading https://files.pythonhosted.org/packages/19/a4/6deadfb0ed130b14628eff1cd39dc0e58c8dce9eddf46e2754060fe7f38b/humanfriendly-8.0-py2.py3-none-any.whl (83kB)\n",
            "\u001b[K     |████████████████████████████████| 92kB 12.7MB/s \n",
            "\u001b[?25hCollecting tensorflow-estimator<1.14.0rc0,>=1.13.0\n",
            "\u001b[?25l  Downloading https://files.pythonhosted.org/packages/bb/48/13f49fc3fa0fdf916aa1419013bb8f2ad09674c275b4046d5ee669a46873/tensorflow_estimator-1.13.0-py2.py3-none-any.whl (367kB)\n",
            "\u001b[K     |████████████████████████████████| 368kB 39.8MB/s \n",
            "\u001b[?25hCollecting tensorboard<1.14.0,>=1.13.0\n",
            "\u001b[?25l  Downloading https://files.pythonhosted.org/packages/0f/39/bdd75b08a6fba41f098b6cb091b9e8c7a80e1b4d679a581a0ccd17b10373/tensorboard-1.13.1-py3-none-any.whl (3.2MB)\n",
            "\u001b[K     |████████████████████████████████| 3.2MB 37.2MB/s \n",
            "\u001b[?25hRequirement already satisfied: termcolor>=1.1.0 in /tensorflow-2.1.0/python3.6 (from tensorflow~=1.13.0->rasa_core) (1.1.0)\n",
            "Requirement already satisfied: keras-preprocessing>=1.0.5 in /tensorflow-2.1.0/python3.6 (from tensorflow~=1.13.0->rasa_core) (1.1.0)\n",
            "Requirement already satisfied: grpcio>=1.8.6 in /tensorflow-2.1.0/python3.6 (from tensorflow~=1.13.0->rasa_core) (1.27.2)\n",
            "Requirement already satisfied: gast>=0.2.0 in /tensorflow-2.1.0/python3.6 (from tensorflow~=1.13.0->rasa_core) (0.2.2)\n",
            "Requirement already satisfied: wheel>=0.26 in /tensorflow-2.1.0/python3.6 (from tensorflow~=1.13.0->rasa_core) (0.34.2)\n",
            "Requirement already satisfied: protobuf>=3.6.1 in /tensorflow-2.1.0/python3.6 (from tensorflow~=1.13.0->rasa_core) (3.11.3)\n",
            "Requirement already satisfied: astor>=0.6.0 in /tensorflow-2.1.0/python3.6 (from tensorflow~=1.13.0->rasa_core) (0.8.1)\n",
            "Requirement already satisfied: keras-applications>=1.0.6 in /tensorflow-2.1.0/python3.6 (from tensorflow~=1.13.0->rasa_core) (1.0.8)\n",
            "Requirement already satisfied: absl-py>=0.1.6 in /tensorflow-2.1.0/python3.6 (from tensorflow~=1.13.0->rasa_core) (0.9.0)\n",
            "Collecting cloudpickle~=0.6.1\n",
            "  Downloading https://files.pythonhosted.org/packages/fc/87/7b7ef3038b4783911e3fdecb5c566e3a817ce3e890e164fc174c088edb1e/cloudpickle-0.6.1-py2.py3-none-any.whl\n",
            "Collecting klein~=17.10\n",
            "  Downloading https://files.pythonhosted.org/packages/8a/6b/adc97a7bb3fb781fdd9e49177ad873c1479f87b9745271cbeda81cbb9cc8/klein-17.10.0-py2.py3-none-any.whl\n",
            "Requirement already satisfied: boto3~=1.9 in /usr/local/lib/python3.6/dist-packages (from rasa-nlu~=0.15->rasa_core) (1.11.15)\n",
            "Collecting matplotlib~=2.2\n",
            "\u001b[?25l  Downloading https://files.pythonhosted.org/packages/49/cc/94dd12083678ffbfee7cf5ac8bf341b0e6dac64c422851db094e532d1524/matplotlib-2.2.5-cp36-cp36m-manylinux1_x86_64.whl (12.8MB)\n",
            "\u001b[K     |████████████████████████████████| 12.8MB 18.8MB/s \n",
            "\u001b[?25hCollecting simplejson~=3.13\n",
            "\u001b[?25l  Downloading https://files.pythonhosted.org/packages/98/87/a7b98aa9256c8843f92878966dc3d8d914c14aad97e2c5ce4798d5743e07/simplejson-3.17.0.tar.gz (83kB)\n",
            "\u001b[K     |████████████████████████████████| 92kB 10.7MB/s \n",
            "\u001b[?25hCollecting requests-toolbelt\n",
            "\u001b[?25l  Downloading https://files.pythonhosted.org/packages/60/ef/7681134338fc097acef8d9b2f8abe0458e4d87559c689a8c306d0957ece5/requests_toolbelt-0.9.1-py2.py3-none-any.whl (54kB)\n",
            "\u001b[K     |████████████████████████████████| 61kB 8.2MB/s \n",
            "\u001b[?25hRequirement already satisfied: greenlet>=0.4.14; platform_python_implementation == \"CPython\" in /usr/local/lib/python3.6/dist-packages (from gevent~=1.3->rasa_core) (0.4.15)\n",
            "Requirement already satisfied: decorator>=4.3.0 in /usr/local/lib/python3.6/dist-packages (from networkx~=2.2->rasa_core) (4.4.1)\n",
            "Requirement already satisfied: MarkupSafe>=0.23 in /usr/local/lib/python3.6/dist-packages (from Jinja2>=2.10.1->flask~=1.0->rasa_core) (1.1.1)\n",
            "Requirement already satisfied: wcwidth in /usr/local/lib/python3.6/dist-packages (from prompt-toolkit<4.0,>=2.0->questionary>=1.0.1->rasa_core) (0.1.8)\n",
            "Requirement already satisfied: cffi!=1.11.3,>=1.8 in /usr/local/lib/python3.6/dist-packages (from cryptography->python-telegram-bot~=11.0->rasa_core) (1.14.0)\n",
            "Collecting mock>=2.0.0\n",
            "  Downloading https://files.pythonhosted.org/packages/30/6a/9bde648117ec7087c89a45de0a8b25aba21d54d3defd08cb24eacded875f/mock-4.0.1-py3-none-any.whl\n",
            "Requirement already satisfied: markdown>=2.6.8 in /tensorflow-2.1.0/python3.6 (from tensorboard<1.14.0,>=1.13.0->tensorflow~=1.13.0->rasa_core) (3.2.1)\n",
            "Requirement already satisfied: h5py in /tensorflow-2.1.0/python3.6 (from keras-applications>=1.0.6->tensorflow~=1.13.0->rasa_core) (2.10.0)\n",
            "Collecting Twisted>=15.5\n",
            "\u001b[?25l  Downloading https://files.pythonhosted.org/packages/88/e2/0c21fadf0dff02d145db02f24a6ed2c24993e7242d138babbca41de2f5a2/Twisted-19.10.0-cp36-cp36m-manylinux1_x86_64.whl (3.1MB)\n",
            "\u001b[K     |████████████████████████████████| 3.1MB 38.6MB/s \n",
            "\u001b[?25hCollecting incremental\n",
            "  Downloading https://files.pythonhosted.org/packages/f5/1d/c98a587dc06e107115cf4a58b49de20b19222c83d75335a192052af4c4b7/incremental-17.5.0-py2.py3-none-any.whl\n",
            "Requirement already satisfied: s3transfer<0.4.0,>=0.3.0 in /usr/local/lib/python3.6/dist-packages (from boto3~=1.9->rasa-nlu~=0.15->rasa_core) (0.3.3)\n",
            "Requirement already satisfied: jmespath<1.0.0,>=0.7.1 in /usr/local/lib/python3.6/dist-packages (from boto3~=1.9->rasa-nlu~=0.15->rasa_core) (0.9.4)\n",
            "Requirement already satisfied: botocore<1.15.0,>=1.14.15 in /usr/local/lib/python3.6/dist-packages (from boto3~=1.9->rasa-nlu~=0.15->rasa_core) (1.14.15)\n",
            "Requirement already satisfied: kiwisolver>=1.0.1 in /usr/local/lib/python3.6/dist-packages (from matplotlib~=2.2->rasa-nlu~=0.15->rasa_core) (1.1.0)\n",
            "Requirement already satisfied: cycler>=0.10 in /usr/local/lib/python3.6/dist-packages (from matplotlib~=2.2->rasa-nlu~=0.15->rasa_core) (0.10.0)\n",
            "Requirement already satisfied: pycparser in /usr/local/lib/python3.6/dist-packages (from cffi!=1.11.3,>=1.8->cryptography->python-telegram-bot~=11.0->rasa_core) (2.19)\n",
            "Collecting PyHamcrest>=1.9.0\n",
            "\u001b[?25l  Downloading https://files.pythonhosted.org/packages/40/16/e54cc65891f01cb62893540f44ffd3e8dab0a22443e1b438f1a9f5574bee/PyHamcrest-2.0.2-py3-none-any.whl (52kB)\n",
            "\u001b[K     |████████████████████████████████| 61kB 8.2MB/s \n",
            "\u001b[?25hCollecting zope.interface>=4.4.2\n",
            "\u001b[?25l  Downloading https://files.pythonhosted.org/packages/05/16/79fe71428c91673194a21fedcc46f7f1349db799bc2a65da4ffdbe570343/zope.interface-4.7.1-cp36-cp36m-manylinux2010_x86_64.whl (168kB)\n",
            "\u001b[K     |████████████████████████████████| 174kB 47.6MB/s \n",
            "\u001b[?25hCollecting constantly>=15.1\n",
            "  Downloading https://files.pythonhosted.org/packages/b9/65/48c1909d0c0aeae6c10213340ce682db01b48ea900a7d9fce7a7910ff318/constantly-15.1.0-py2.py3-none-any.whl\n",
            "Collecting hyperlink>=17.1.1\n",
            "  Downloading https://files.pythonhosted.org/packages/7f/91/e916ca10a2de1cb7101a9b24da546fb90ee14629e23160086cf3361c4fb8/hyperlink-19.0.0-py2.py3-none-any.whl\n",
            "Collecting Automat>=0.3.0\n",
            "  Downloading https://files.pythonhosted.org/packages/dd/83/5f6f3c1a562674d65efc320257bdc0873ec53147835aeef7762fe7585273/Automat-20.2.0-py2.py3-none-any.whl\n",
            "Requirement already satisfied: attrs>=17.4.0 in /usr/local/lib/python3.6/dist-packages (from Twisted>=15.5->klein~=17.10->rasa-nlu~=0.15->rasa_core) (19.3.0)\n",
            "Requirement already satisfied: docutils<0.16,>=0.10 in /usr/local/lib/python3.6/dist-packages (from botocore<1.15.0,>=1.14.15->boto3~=1.9->rasa-nlu~=0.15->rasa_core) (0.15.2)\n",
            "Building wheels for collected packages: twilio, slackclient, terminaltables, webexteamssdk, mattermostwrapper, colorclass, flask-jwt-simple, ConfigArgParse, simplejson\n",
            "  Building wheel for twilio (setup.py) ... \u001b[?25l\u001b[?25hdone\n",
            "  Created wheel for twilio: filename=twilio-6.35.5-py2.py3-none-any.whl size=1082258 sha256=2a099bf28622a9085f71b754e2d9d31d335dc1ecea159cc90477addaada5520c\n",
            "  Stored in directory: /root/.cache/pip/wheels/c6/a1/8a/e992b544bfd1610bc778f484ff8658dc630ce70405f2a5d8c2\n",
            "  Building wheel for slackclient (setup.py) ... \u001b[?25l\u001b[?25hdone\n",
            "  Created wheel for slackclient: filename=slackclient-1.3.2-py2.py3-none-any.whl size=19231 sha256=45f36e27785aefdad068b7428534da5e7bccee580a1d0576724f64ebe694fbe1\n",
            "  Stored in directory: /root/.cache/pip/wheels/3b/d4/92/3458f0e1a3e1a9c8935d3b2db89a75d74d8d45601fedec752f\n",
            "  Building wheel for terminaltables (setup.py) ... \u001b[?25l\u001b[?25hdone\n",
            "  Created wheel for terminaltables: filename=terminaltables-3.1.0-cp36-none-any.whl size=15356 sha256=b87c851226efc6d913e10aa2963151e0d5a7fc014148f1aef55b9a999a62f682\n",
            "  Stored in directory: /root/.cache/pip/wheels/30/6b/50/6c75775b681fb36cdfac7f19799888ef9d8813aff9e379663e\n",
            "  Building wheel for webexteamssdk (setup.py) ... \u001b[?25l\u001b[?25hdone\n",
            "  Created wheel for webexteamssdk: filename=webexteamssdk-1.2-cp36-none-any.whl size=82013 sha256=307cf909e85178e6b26176981bc2e41f9cbb37d895fa46a17bcd9c57d6e43fd5\n",
            "  Stored in directory: /root/.cache/pip/wheels/ae/5f/fb/705cb87c56fb25aed2fa6795a1c751ca83b79fc76f69e37d0c\n",
            "  Building wheel for mattermostwrapper (setup.py) ... \u001b[?25l\u001b[?25hdone\n",
            "  Created wheel for mattermostwrapper: filename=mattermostwrapper-2.2-cp36-none-any.whl size=2466 sha256=e421cd6e6662bbab1eaae61c8be12a7425ed151fbf8f810fd2bd628f56914446\n",
            "  Stored in directory: /root/.cache/pip/wheels/c5/47/19/47188b3036316651250c4f7df23d59a3b524c82921bfb6daa3\n",
            "  Building wheel for colorclass (setup.py) ... \u001b[?25l\u001b[?25hdone\n",
            "  Created wheel for colorclass: filename=colorclass-2.2.0-cp36-none-any.whl size=19396 sha256=5dbb7fd9bcac61b8f77922a70c1eb4c2a7b80b525e8bd559b96a39c290073e8c\n",
            "  Stored in directory: /root/.cache/pip/wheels/d1/86/9d/16127127306a92d7fd30267890a5634026c045391979c4c317\n",
            "  Building wheel for flask-jwt-simple (setup.py) ... \u001b[?25l\u001b[?25hdone\n",
            "  Created wheel for flask-jwt-simple: filename=Flask_JWT_Simple-0.0.3-cp36-none-any.whl size=8001 sha256=18599b6498d8ac7b0c766e9dac3a1c0b599392649edfcb0492a8dc0a05bb710f\n",
            "  Stored in directory: /root/.cache/pip/wheels/5d/86/c2/49573c0ce194f3073438e56dad49c462fe9c9a69a4fbe7b3fc\n",
            "  Building wheel for ConfigArgParse (setup.py) ... \u001b[?25l\u001b[?25hdone\n",
            "  Created wheel for ConfigArgParse: filename=ConfigArgParse-0.13.0-cp36-none-any.whl size=17570 sha256=b42f910ea4660fb1be9a62c38b10aa98f88bfd2fe8b9410af05bc763d2cec1bd\n",
            "  Stored in directory: /root/.cache/pip/wheels/76/11/eb/12113becd46c0e8a70b8a63f9405e46a1f61d4aaa8532d676b\n",
            "  Building wheel for simplejson (setup.py) ... \u001b[?25l\u001b[?25hdone\n",
            "  Created wheel for simplejson: filename=simplejson-3.17.0-cp36-cp36m-linux_x86_64.whl size=114206 sha256=4652b57b2afd3ceed29e567aa8c54824bc1bba3c3c22f6e82d85e99949f38228\n",
            "  Stored in directory: /root/.cache/pip/wheels/86/c0/83/dcd0339abb2640544bb8e0938aab2d069cef55e5647ce6e097\n",
            "Successfully built twilio slackclient terminaltables webexteamssdk mattermostwrapper colorclass flask-jwt-simple ConfigArgParse simplejson\n",
            "\u001b[31mERROR: tensorflow-federated 0.11.0 requires enum34~=1.1, which is not installed.\u001b[0m\n",
            "\u001b[31mERROR: tensorflow-probability 0.9.0 has requirement cloudpickle>=1.2.2, but you'll have cloudpickle 0.6.1 which is incompatible.\u001b[0m\n",
            "\u001b[31mERROR: tensorflow-federated 0.11.0 has requirement attrs~=18.2, but you'll have attrs 19.3.0 which is incompatible.\u001b[0m\n",
            "\u001b[31mERROR: tensorflow-federated 0.11.0 has requirement cachetools~=3.1.1, but you'll have cachetools 4.0.0 which is incompatible.\u001b[0m\n",
            "\u001b[31mERROR: tensorflow-federated 0.11.0 has requirement grpcio~=1.24.3, but you'll have grpcio 1.27.2 which is incompatible.\u001b[0m\n",
            "\u001b[31mERROR: tensorflow-federated 0.11.0 has requirement tensorflow~=2.0.0, but you'll have tensorflow 1.13.2 which is incompatible.\u001b[0m\n",
            "\u001b[31mERROR: tensorflow-federated 0.11.0 has requirement tensorflow-addons~=0.6.0, but you'll have tensorflow-addons 0.8.2 which is incompatible.\u001b[0m\n",
            "\u001b[31mERROR: tensor2tensor 1.14.1 has requirement tensorflow-probability==0.7.0, but you'll have tensorflow-probability 0.9.0 which is incompatible.\u001b[0m\n",
            "\u001b[31mERROR: plotnine 0.6.0 has requirement matplotlib>=3.1.1, but you'll have matplotlib 2.2.5 which is incompatible.\u001b[0m\n",
            "\u001b[31mERROR: mizani 0.6.0 has requirement matplotlib>=3.1.1, but you'll have matplotlib 2.2.5 which is incompatible.\u001b[0m\n",
            "\u001b[31mERROR: kaggle 1.5.6 has requirement urllib3<1.25,>=1.21.1, but you'll have urllib3 1.25.8 which is incompatible.\u001b[0m\n",
            "\u001b[31mERROR: jupyter-console 5.2.0 has requirement prompt-toolkit<2.0.0,>=1.0.0, but you'll have prompt-toolkit 3.0.3 which is incompatible.\u001b[0m\n",
            "\u001b[31mERROR: ipython 5.5.0 has requirement prompt-toolkit<2.0.0,>=1.0.4, but you'll have prompt-toolkit 3.0.3 which is incompatible.\u001b[0m\n",
            "\u001b[31mERROR: gym 0.15.6 has requirement cloudpickle~=1.2.0, but you'll have cloudpickle 0.6.1 which is incompatible.\u001b[0m\n",
            "\u001b[31mERROR: google-colab 1.0.0 has requirement google-auth~=1.7.2, but you'll have google-auth 1.11.2 which is incompatible.\u001b[0m\n",
            "\u001b[31mERROR: google-colab 1.0.0 has requirement requests~=2.21.0, but you'll have requests 2.22.0 which is incompatible.\u001b[0m\n",
            "\u001b[31mERROR: google-colab 1.0.0 has requirement six~=1.12.0, but you'll have six 1.14.0 which is incompatible.\u001b[0m\n",
            "\u001b[31mERROR: datascience 0.10.6 has requirement folium==0.2.1, but you'll have folium 0.8.3 which is incompatible.\u001b[0m\n",
            "\u001b[31mERROR: albumentations 0.1.12 has requirement imgaug<0.2.7,>=0.2.5, but you'll have imgaug 0.2.9 which is incompatible.\u001b[0m\n",
            "\u001b[31mERROR: rasa-nlu 0.15.1 has requirement future~=0.17.1, but you'll have future 0.16.0 which is incompatible.\u001b[0m\n",
            "Installing collected packages: scikit-learn, apscheduler, python-dateutil, pykwalify, packaging, flask-cors, python-engineio, python-socketio, PyJWT, twilio, ConfigArgParse, humanfriendly, coloredlogs, rasa-core-sdk, websocket-client, slackclient, prompt-toolkit, questionary, pydot, terminaltables, cryptography, python-telegram-bot, ruamel.yaml, redis, mock, tensorflow-estimator, tensorboard, tensorflow, fakeredis, colorhash, cloudpickle, PyHamcrest, zope.interface, constantly, hyperlink, incremental, Automat, Twisted, klein, matplotlib, simplejson, rasa-nlu, jsonpickle, requests-toolbelt, webexteamssdk, mattermostwrapper, colorclass, rocketchat-API, pika, flask-jwt-simple, fbmessenger, rasa-core\n",
            "  Found existing installation: scikit-learn 0.22.1\n",
            "    Uninstalling scikit-learn-0.22.1:\n",
            "      Successfully uninstalled scikit-learn-0.22.1\n",
            "  Found existing installation: python-dateutil 2.6.1\n",
            "    Uninstalling python-dateutil-2.6.1:\n",
            "      Successfully uninstalled python-dateutil-2.6.1\n",
            "  Found existing installation: packaging 20.1\n",
            "    Uninstalling packaging-20.1:\n",
            "      Successfully uninstalled packaging-20.1\n",
            "  Found existing installation: prompt-toolkit 1.0.18\n",
            "    Uninstalling prompt-toolkit-1.0.18:\n",
            "      Successfully uninstalled prompt-toolkit-1.0.18\n",
            "  Found existing installation: pydot 1.3.0\n",
            "    Uninstalling pydot-1.3.0:\n",
            "      Successfully uninstalled pydot-1.3.0\n",
            "  Found existing installation: tensorflow-estimator 2.1.0\n",
            "    Uninstalling tensorflow-estimator-2.1.0:\n",
            "      Successfully uninstalled tensorflow-estimator-2.1.0\n",
            "  Found existing installation: tensorboard 2.1.0\n",
            "    Uninstalling tensorboard-2.1.0:\n",
            "      Successfully uninstalled tensorboard-2.1.0\n",
            "  Found existing installation: tensorflow 2.1.0\n",
            "    Uninstalling tensorflow-2.1.0:\n",
            "      Successfully uninstalled tensorflow-2.1.0\n",
            "  Found existing installation: cloudpickle 1.2.2\n",
            "    Uninstalling cloudpickle-1.2.2:\n",
            "      Successfully uninstalled cloudpickle-1.2.2\n",
            "  Found existing installation: matplotlib 3.1.3\n",
            "    Uninstalling matplotlib-3.1.3:\n",
            "      Successfully uninstalled matplotlib-3.1.3\n",
            "Successfully installed Automat-20.2.0 ConfigArgParse-0.13.0 PyHamcrest-2.0.2 PyJWT-1.7.1 Twisted-19.10.0 apscheduler-3.6.3 cloudpickle-0.6.1 colorclass-2.2.0 coloredlogs-10.0 colorhash-1.0.2 constantly-15.1.0 cryptography-2.8 fakeredis-0.10.3 fbmessenger-5.6.0 flask-cors-3.0.8 flask-jwt-simple-0.0.3 humanfriendly-8.0 hyperlink-19.0.0 incremental-17.5.0 jsonpickle-1.3 klein-17.10.0 matplotlib-2.2.5 mattermostwrapper-2.2 mock-4.0.1 packaging-18.0 pika-0.12.0 prompt-toolkit-3.0.3 pydot-1.4.1 pykwalify-1.7.0 python-dateutil-2.8.1 python-engineio-3.11.2 python-socketio-3.1.2 python-telegram-bot-11.1.0 questionary-1.5.1 rasa-core-0.14.5 rasa-core-sdk-0.14.0 rasa-nlu-0.15.1 redis-2.10.6 requests-toolbelt-0.9.1 rocketchat-API-0.6.36 ruamel.yaml-0.15.100 scikit-learn-0.20.4 simplejson-3.17.0 slackclient-1.3.2 tensorboard-1.15.0 tensorflow-1.15.0 tensorflow-estimator-1.15.1 terminaltables-3.1.0 twilio-6.35.5 webexteamssdk-1.2 websocket-client-0.54.0 zope.interface-4.7.1\n"
          ],
          "name": "stdout"
        },
        {
          "output_type": "display_data",
          "data": {
            "application/vnd.colab-display-data+json": {
              "pip_warning": {
                "packages": [
                  "cloudpickle",
                  "dateutil",
                  "matplotlib",
                  "mpl_toolkits",
                  "prompt_toolkit",
                  "tensorboard",
                  "tensorflow",
                  "tensorflow_core",
                  "tensorflow_estimator"
                ]
              }
            }
          },
          "metadata": {
            "tags": []
          }
        }
      ]
    },
    {
      "cell_type": "markdown",
      "metadata": {
        "id": "MZHuB5BQ9qCl",
        "colab_type": "text"
      },
      "source": [
        "Understanding Conversations through Stories\n",
        "\n",
        "Lets us get started by writing a few stories, which are example conversations that Rasa Core will learn from.\n",
        "\n",
        "The format works like this:\n",
        "\n",
        "A story starts with ## and you can give it a name.\n",
        "\n",
        "Intents: Lines that start with * are messages sent by the user. Intent (and the entities) that represent what the user means.\n",
        "\n",
        "Actions: Lines that start with - are actions taken by your bot. In this case all of our actions are just messages sent back to the user, like utter_greet, but in general an action can do anything, including calling an API and interacting with the outside world."
      ]
    },
    {
      "cell_type": "code",
      "metadata": {
        "id": "0iO_oStA9wbT",
        "colab_type": "code",
        "colab": {
          "base_uri": "https://localhost:8080/",
          "height": 34
        },
        "outputId": "f5e9d587-32f6-4043-f094-10ecf9213781"
      },
      "source": [
        "stories_md = \"\"\"\n",
        "## happy path               <!-- name of the story - just for debugging -->\n",
        "* greet              \n",
        "  - utter_greet\n",
        "* mood_great               <!-- user utterance, in format intent[entities] -->\n",
        "  - utter_happy\n",
        "* mood_affirm\n",
        "  - utter_happy\n",
        "* mood_affirm\n",
        "  - utter_goodbye\n",
        "  \n",
        "  \n",
        "## sad path 1               <!-- this is already the start of the next story -->\n",
        "* greet\n",
        "  - utter_greet             <!-- action the bot should execute -->\n",
        "* mood_unhappy\n",
        "  - utter_cheer_up\n",
        "  - utter_did_that_help\n",
        "* mood_affirm\n",
        "  - utter_happy\n",
        "  \n",
        "  \n",
        "\n",
        "## sad path 2\n",
        "* greet\n",
        "  - utter_greet\n",
        "* mood_unhappy\n",
        "  - utter_cheer_up\n",
        "  - utter_did_that_help\n",
        "* mood_deny\n",
        "  - utter_goodbye\n",
        "  \n",
        "## strange user\n",
        "* mood_affirm\n",
        "  - utter_happy\n",
        "* mood_affirm\n",
        "  - utter_unclear\n",
        "\n",
        "## say goodbye\n",
        "* goodbye\n",
        "  - utter_goodbye\n",
        "\n",
        "\"\"\"\n",
        "\n",
        "%store stories_md > \"/content/drive/My Drive/rsa_chatbot_2/stories.md\""
      ],
      "execution_count": 3,
      "outputs": [
        {
          "output_type": "stream",
          "text": [
            "Writing 'stories_md' (str) to file '/content/drive/My Drive/rsa_chatbot_2/stories.md'.\n"
          ],
          "name": "stdout"
        }
      ]
    },
    {
      "cell_type": "markdown",
      "metadata": {
        "id": "PXc8DrE790Bm",
        "colab_type": "text"
      },
      "source": [
        "Defining a Domain for your agent\n",
        "\n",
        "The domain specifies the universe that your bot lives in. All of the intents and actions that show up in your stories should be listed along with templates, which contain the messages your bot can send back."
      ]
    },
    {
      "cell_type": "code",
      "metadata": {
        "id": "iXjt_LOi9ynU",
        "colab_type": "code",
        "colab": {
          "base_uri": "https://localhost:8080/",
          "height": 34
        },
        "outputId": "20ebb70d-864b-4dee-ff53-cac855707c59"
      },
      "source": [
        "domain_yml = \"\"\"\n",
        "intents:\n",
        "  - greet\n",
        "  - goodbye\n",
        "  - mood_affirm\n",
        "  - mood_deny\n",
        "  - mood_great\n",
        "  - mood_unhappy\n",
        "\n",
        "actions:\n",
        "  - utter_greet\n",
        "  - utter_cheer_up\n",
        "  - utter_did_that_help\n",
        "  - utter_happy\n",
        "  - utter_goodbye\n",
        "  - utter_unclear\n",
        "\n",
        "templates:\n",
        "  utter_greet:\n",
        "  - text: \"Hey! How are you?\"\n",
        "\n",
        "  utter_cheer_up:\n",
        "  - text: \"Here is something to cheer you up:\"\n",
        "    text: \"https://i.imgur.com/nGF1K8f.jpg\"\n",
        "\n",
        "  utter_did_that_help:\n",
        "  - text: \"Did that help you?\"\n",
        "\n",
        "  utter_unclear:\n",
        "  - text: \"I am not sure what you are aiming for.\"\n",
        "  \n",
        "  utter_happy:\n",
        "  - text: \"Great carry on!\"\n",
        "\n",
        "  utter_goodbye:\n",
        "  - text: \"Bye\"\n",
        "\"\"\"\n",
        "\n",
        "%store domain_yml > \"/content/drive/My Drive/rsa_chatbot_2/domain.yml\""
      ],
      "execution_count": 4,
      "outputs": [
        {
          "output_type": "stream",
          "text": [
            "Writing 'domain_yml' (str) to file '/content/drive/My Drive/rsa_chatbot_2/domain.yml'.\n"
          ],
          "name": "stdout"
        }
      ]
    },
    {
      "cell_type": "code",
      "metadata": {
        "id": "QZ4ocBrtASMA",
        "colab_type": "code",
        "colab": {
          "base_uri": "https://localhost:8080/",
          "height": 129
        },
        "outputId": "78dc2bab-c7ee-4d22-ae3c-57e852c15980"
      },
      "source": [
        "choco install python3 --version 3.6.6\n",
        "# choco install python --pre "
      ],
      "execution_count": 11,
      "outputs": [
        {
          "output_type": "error",
          "ename": "SyntaxError",
          "evalue": "ignored",
          "traceback": [
            "\u001b[0;36m  File \u001b[0;32m\"<ipython-input-11-ebffc6ece929>\"\u001b[0;36m, line \u001b[0;32m1\u001b[0m\n\u001b[0;31m    choco install python3 --version 3.6.6\u001b[0m\n\u001b[0m                ^\u001b[0m\n\u001b[0;31mSyntaxError\u001b[0m\u001b[0;31m:\u001b[0m invalid syntax\n"
          ]
        }
      ]
    },
    {
      "cell_type": "markdown",
      "metadata": {
        "id": "xij0uqf_97TJ",
        "colab_type": "text"
      },
      "source": [
        "Training your Dialogue Model\n",
        "\n",
        "Now comes the fun part! We're going to show Rasa Core the stories we wrote above, and train a model on these examples.\n",
        "\n",
        "In this case, the model is a neural network implemented in Keras which learns to predict which action to take next. The default architecture is based on an LSTM."
      ]
    },
    {
      "cell_type": "code",
      "metadata": {
        "id": "Xa6HCvyN95BG",
        "colab_type": "code",
        "colab": {
          "base_uri": "https://localhost:8080/",
          "height": 51
        },
        "outputId": "0bd8322a-b66a-4d47-a25d-44203e17110c"
      },
      "source": [
        "%tensorflow_version 1.x\n",
        "import tensorflow\n",
        "print(tensorflow.__version__)"
      ],
      "execution_count": 13,
      "outputs": [
        {
          "output_type": "stream",
          "text": [
            "TensorFlow is already loaded. Please restart the runtime to change versions.\n",
            "2.1.0\n"
          ],
          "name": "stdout"
        }
      ]
    },
    {
      "cell_type": "code",
      "metadata": {
        "id": "QEs36aIY9-F3",
        "colab_type": "code",
        "colab": {
          "base_uri": "https://localhost:8080/",
          "height": 367
        },
        "outputId": "80363b97-7fed-4d8b-f627-2a211812dbb3"
      },
      "source": [
        "#!mkdir \"/content/drive/My Drive/rsa_chatbot_2/models\"\n",
        "import tensorflow.compat.v1 as tf\n",
        "tf.disable_v2_behavior()\n",
        "from rasa_core.policies.keras_policy import KerasPolicy\n",
        "from rasa_core.agent import Agent\n",
        "\n",
        "agent = Agent('/content/drive/My Drive/rsa_chatbot_2/domain.yml', policies=[KerasPolicy()])\n",
        "training_data = agent.load_data('/content/drive/My Drive/rsa_chatbot_2/stories.md')\n",
        "agent.train(\n",
        "        training_data,\n",
        "        validation_split=0.0\n",
        ")\n",
        "\n",
        "agent.persist('/content/drive/My Drive/rsa_chatbot_2/models/dialogue')"
      ],
      "execution_count": 9,
      "outputs": [
        {
          "output_type": "error",
          "ename": "ModuleNotFoundError",
          "evalue": "ignored",
          "traceback": [
            "\u001b[0;31m---------------------------------------------------------------------------\u001b[0m",
            "\u001b[0;31mModuleNotFoundError\u001b[0m                       Traceback (most recent call last)",
            "\u001b[0;32m<ipython-input-9-497fb36678ac>\u001b[0m in \u001b[0;36m<module>\u001b[0;34m()\u001b[0m\n\u001b[0;32m----> 1\u001b[0;31m \u001b[0;32mimport\u001b[0m \u001b[0mtensorflow\u001b[0m\u001b[0;34m.\u001b[0m\u001b[0mcompat\u001b[0m\u001b[0;34m.\u001b[0m\u001b[0mv1\u001b[0m \u001b[0;32mas\u001b[0m \u001b[0mtf\u001b[0m\u001b[0;34m\u001b[0m\u001b[0;34m\u001b[0m\u001b[0m\n\u001b[0m\u001b[1;32m      2\u001b[0m \u001b[0mtf\u001b[0m\u001b[0;34m.\u001b[0m\u001b[0mdisable_v2_behavior\u001b[0m\u001b[0;34m(\u001b[0m\u001b[0;34m)\u001b[0m\u001b[0;34m\u001b[0m\u001b[0;34m\u001b[0m\u001b[0m\n\u001b[1;32m      3\u001b[0m \u001b[0;32mfrom\u001b[0m \u001b[0mrasa_core\u001b[0m\u001b[0;34m.\u001b[0m\u001b[0mpolicies\u001b[0m\u001b[0;34m.\u001b[0m\u001b[0mkeras_policy\u001b[0m \u001b[0;32mimport\u001b[0m \u001b[0mKerasPolicy\u001b[0m\u001b[0;34m\u001b[0m\u001b[0;34m\u001b[0m\u001b[0m\n\u001b[1;32m      4\u001b[0m \u001b[0;32mfrom\u001b[0m \u001b[0mrasa_core\u001b[0m\u001b[0;34m.\u001b[0m\u001b[0magent\u001b[0m \u001b[0;32mimport\u001b[0m \u001b[0mAgent\u001b[0m\u001b[0;34m\u001b[0m\u001b[0;34m\u001b[0m\u001b[0m\n\u001b[1;32m      5\u001b[0m \u001b[0;34m\u001b[0m\u001b[0m\n",
            "\u001b[0;31mModuleNotFoundError\u001b[0m: No module named 'tensorflow.compat.v1'",
            "",
            "\u001b[0;31m---------------------------------------------------------------------------\u001b[0;32m\nNOTE: If your import is failing due to a missing package, you can\nmanually install dependencies using either !pip or !apt.\n\nTo view examples of installing some common dependencies, click the\n\"Open Examples\" button below.\n\u001b[0;31m---------------------------------------------------------------------------\u001b[0m\n"
          ]
        }
      ]
    },
    {
      "cell_type": "code",
      "metadata": {
        "id": "oisrH2Uk-EQD",
        "colab_type": "code",
        "colab": {}
      },
      "source": [
        ""
      ],
      "execution_count": 0,
      "outputs": []
    }
  ]
}